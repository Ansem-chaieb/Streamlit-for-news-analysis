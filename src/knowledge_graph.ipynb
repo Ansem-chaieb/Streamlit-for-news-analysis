{
 "cells": [
  {
   "cell_type": "code",
   "execution_count": 39,
   "id": "774d7c07",
   "metadata": {},
   "outputs": [],
   "source": [
    "import pandas as pd\n",
    "import matplotlib.pyplot as plt\n",
    "import networkx as nx\n",
    "from src.data_analysis.knowledge_graph import generate_relations\n",
    "from OpenNRE import opennre"
   ]
  },
  {
   "cell_type": "code",
   "execution_count": 40,
   "id": "ce1b7b5b",
   "metadata": {},
   "outputs": [],
   "source": [
    "df = pd.read_csv('dataset/process_data.csv')"
   ]
  },
  {
   "cell_type": "code",
   "execution_count": 41,
   "id": "e630b531",
   "metadata": {},
   "outputs": [],
   "source": [
    "subject = \"The teenagers and the nun fighting a coal mine'\"\n",
    "text = df['text'][df['subject'] == subject].iloc[0]"
   ]
  },
  {
   "cell_type": "code",
   "execution_count": null,
   "id": "9725c3d8",
   "metadata": {},
   "outputs": [],
   "source": [
    "model = opennre.get_model('wiki80_cnn_softmax')\n",
    "kg = generate_relations(model, text)\n",
    "G = nx.from_pandas_edgelist(kg, \"source\", \"target\", edge_attr=True, create_using=nx.MultiDiGraph())\n",
    "plt.figure(figsize=(10,10))\n",
    "d = dict(G.degree)\n",
    "pos = nx.spring_layout(G)\n",
    "nx.draw(G, with_labels=True, node_color='#FF6347', node_size=[v * 100 for v in d.values()])\n",
    "plt.show()"
   ]
  },
  {
   "cell_type": "code",
   "execution_count": null,
   "id": "b8e7689f",
   "metadata": {},
   "outputs": [],
   "source": [
    "kg\n",
    "\n"
   ]
  },
  {
   "cell_type": "code",
   "execution_count": null,
   "metadata": {
    "collapsed": false,
    "pycharm": {
     "name": "#%%\n"
    }
   },
   "outputs": [
    {
     "ename": "",
     "evalue": "",
     "output_type": "error",
     "traceback": [
      "\u001b[1;31mRunning cells with 'Python 3.8.10 64-bit' requires ipykernel package.\n",
      "Run the following command to install 'ipykernel' into the Python environment. \n",
      "Command: '/bin/python3 -m pip install ipykernel -U --user --force-reinstall'"
     ]
    }
   ],
   "source": []
  },
  {
   "cell_type": "code",
   "execution_count": null,
   "metadata": {
    "collapsed": false,
    "pycharm": {
     "name": "#%%\n"
    }
   },
   "outputs": [],
   "source": [
    "\n"
   ]
  }
 ],
 "metadata": {
  "kernelspec": {
   "display_name": "Python 3 (ipykernel)",
   "language": "python",
   "name": "python3"
  },
  "language_info": {
   "codemirror_mode": {
    "name": "ipython",
    "version": 3
   },
   "file_extension": ".py",
   "mimetype": "text/x-python",
   "name": "python",
   "nbconvert_exporter": "python",
   "pygments_lexer": "ipython3",
   "version": "3.8.10"
  }
 },
 "nbformat": 4,
 "nbformat_minor": 5
}
